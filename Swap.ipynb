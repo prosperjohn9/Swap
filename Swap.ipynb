{
  "nbformat": 4,
  "nbformat_minor": 0,
  "metadata": {
    "colab": {
      "provenance": [],
      "authorship_tag": "ABX9TyMJ6U+YIJfGdUJMICIywiWM",
      "include_colab_link": true
    },
    "kernelspec": {
      "name": "python3",
      "display_name": "Python 3"
    },
    "language_info": {
      "name": "python"
    }
  },
  "cells": [
    {
      "cell_type": "markdown",
      "metadata": {
        "id": "view-in-github",
        "colab_type": "text"
      },
      "source": [
        "<a href=\"https://colab.research.google.com/github/prosperjohn9/Swap/blob/main/Swap.ipynb\" target=\"_parent\"><img src=\"https://colab.research.google.com/assets/colab-badge.svg\" alt=\"Open In Colab\"/></a>"
      ]
    },
    {
      "cell_type": "markdown",
      "source": [
        "Write a python program that prompts a user to enter two numbers. If the first number given is greater than the second one, the program should swap their values and display the numbers always in ascending order."
      ],
      "metadata": {
        "id": "c3UTsxSw15Rl"
      }
    },
    {
      "cell_type": "code",
      "execution_count": null,
      "metadata": {
        "colab": {
          "base_uri": "https://localhost:8080/"
        },
        "id": "_ypx_4lJ12xl",
        "outputId": "5ea4b2af-8c10-4847-dffa-87c8d4c32588"
      },
      "outputs": [
        {
          "output_type": "stream",
          "name": "stdout",
          "text": [
            "Please enter a number: 33\n",
            "Please enter another number: 12\n",
            "(12, 33)\n"
          ]
        }
      ],
      "source": [
        "x = int(input(\"Please enter a number: \"))\n",
        "y = int(input(\"Please enter another number: \"))\n",
        "if x > y:\n",
        "  print((y, x)) # (x, y): This is known as a tuple"
      ]
    }
  ]
}